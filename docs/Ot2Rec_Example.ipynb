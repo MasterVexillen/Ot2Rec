{
 "cells": [
  {
   "cell_type": "code",
   "execution_count": 1,
   "metadata": {},
   "outputs": [],
   "source": [
    "import Ot2Rec as o2r\n",
    "import magicgui\n",
    "import yaml"
   ]
  },
  {
   "attachments": {},
   "cell_type": "markdown",
   "metadata": {},
   "source": [
    "# Example: Using Ot2Rec in Jupyter Notebooks\n",
    "\n",
    "We will be processing [EMPIAR-10364](https://www.ebi.ac.uk/empiar/EMPIAR-10364/) in this example. You will also need [Ot2Rec](https://github.com/rosalindfranklininstitute/Ot2Rec), [IMOD](https://bio3d.colorado.edu/imod/), and [MotionCor2](https://emcore.ucsf.edu/ucsf-software) installed.\n",
    "You'll need to run this on a GPU enabled Linux system. For reference, our system is a virtual Linux machine with 12 Intel Xeon Gold 5218 2.30 GHz CPUs and 1 Tesla V100 GP.\n",
    "\n",
    "### 1. Download the data\n",
    "\n",
    "Download the data from [EMPIAR-10364](https://www.ebi.ac.uk/empiar/EMPIAR-10364/).\n",
    "\n",
    "### 2. Create a new Ot2Rec project\n",
    "\n",
    "The next code cell will bring up a MagicGUI dialogue box where you can fill in your input."
   ]
  },
  {
   "cell_type": "code",
   "execution_count": 3,
   "metadata": {},
   "outputs": [
    {
     "name": "stdout",
     "output_type": "stream",
     "text": [
      "Master metadata file created.\n"
     ]
    }
   ],
   "source": [
    "o2r.main.new_proj()"
   ]
  },
  {
   "attachments": {},
   "cell_type": "markdown",
   "metadata": {},
   "source": [
    "Alternatively, if you prefer to set the user inputs in Jupyter directly, you can create the input arguments directly and \"deconstruct\" the `o2r.main.new_proj` function."
   ]
  },
  {
   "cell_type": "code",
   "execution_count": 10,
   "metadata": {},
   "outputs": [
    {
     "name": "stdout",
     "output_type": "stream",
     "text": [
      "<FunctionGui magicgui.widgets._function_gui.<class 'magicgui.widgets._function_gui.FunctionGui'>(project_name='TS', source_folder=PosixPath('/ceph/groups/els/EMPIAR-10364/example/../data'), folder_prefix='', file_prefix='', ext='mrc', stack_field=0, index_field=1, tiltangle_field=2, no_mdoc=True)>\n"
     ]
    }
   ],
   "source": [
    "# Set user args, look at o2r.magicgui for names of fields etc\n",
    "new_proj_args = magicgui.widgets.FunctionGui(o2r.magicgui.get_args_new_proj)\n",
    "new_proj_args.project_name.value = \"TS\"\n",
    "new_proj_args.source_folder.value = \"../data\"\n",
    "new_proj_args.no_mdoc\n",
    "\n",
    "print(new_proj_args)\n",
    "\n",
    "# Create main yaml config file\n",
    "o2r.params.new_master_yaml(new_proj_args)\n",
    "\n",
    "# Create new empty metadata object and turn it into a yaml\n",
    "meta = o2r.metadata.Metadata(\n",
    "    project_name=\"TS\",\n",
    "    job_type=\"master\"\n",
    ")\n",
    "meta.create_master_metadata()\n",
    "\n",
    "with open(\"TS_master_md.yaml\", \"w\") as f:\n",
    "    yaml.dump(meta.metadata, f, indent=4)"
   ]
  },
  {
   "attachments": {},
   "cell_type": "markdown",
   "metadata": {},
   "source": [
    "A yaml file containing the setup details for the project has now been created.\n",
    "\n",
    "### 3. Run MotionCor2.\n",
    "\n",
    "Ensure motioncor2 is available on your system for this step. Again, you can choose to enter your user inputs in magicgui, or set them directly. Both ways are included below."
   ]
  },
  {
   "cell_type": "code",
   "execution_count": 14,
   "metadata": {},
   "outputs": [
    {
     "name": "stdout",
     "output_type": "stream",
     "text": [
      "Master config read successfully.\n",
      "Master metadata read successfully.\n",
      "Previous MotionCor2 metadata not found.\n",
      "MotionCor2 metadata updated.\n",
      "MotionCor2 metadata file created.\n"
     ]
    }
   ],
   "source": [
    "# Use MagicGUI to capture inputs\n",
    "o2r.motioncorr.create_yaml()"
   ]
  },
  {
   "cell_type": "code",
   "execution_count": 15,
   "metadata": {},
   "outputs": [
    {
     "name": "stdout",
     "output_type": "stream",
     "text": [
      "Master config read successfully.\n",
      "Master metadata read successfully.\n",
      "Previous MotionCor2 metadata not found.\n",
      "MotionCor2 metadata updated.\n",
      "MotionCor2 metadata file created.\n"
     ]
    }
   ],
   "source": [
    "# *OR* set user args manually\n",
    "mc2_args = magicgui.widgets.FunctionGui(o2r.magicgui.get_args_mc2)\n",
    "mc2_args.project_name.value = \"TS\"\n",
    "mc2_args.pixel_size.value = 2.243\n",
    "\n",
    "o2r.motioncorr.create_yaml(mc2_args) # see tests for more examples of setting the user inputs programatically"
   ]
  },
  {
   "attachments": {},
   "cell_type": "markdown",
   "metadata": {},
   "source": [
    "Now we will run motioncor2. Since this is an example, I have edited the TS_mc2.yaml process list to only process one tilt-series, but you can leave the process list as is if you'd like.\n",
    "The following code cell is a \"deconstructed\" version of what happens when you call `o2r.mc.run` in the terminal."
   ]
  },
  {
   "cell_type": "code",
   "execution_count": 18,
   "metadata": {},
   "outputs": [
    {
     "name": "stdout",
     "output_type": "stream",
     "text": [
      "Ot2Rec-MotionCor2 started.\n"
     ]
    },
    {
     "name": "stderr",
     "output_type": "stream",
     "text": [
      "Processing TS 1...: 100%|████████████████████████████████████████████| 1/1 [02:34<00:00, 154.23s/it]"
     ]
    },
    {
     "name": "stdout",
     "output_type": "stream",
     "text": [
      "Ot2Rec-MotionCor2 jobs finished.\n"
     ]
    },
    {
     "name": "stderr",
     "output_type": "stream",
     "text": [
      "\n"
     ]
    }
   ],
   "source": [
    "mc2_params = o2r.params.read_yaml(\n",
    "    project_name=\"TS\",\n",
    "    filename=\"TS_mc2.yaml\",\n",
    ")\n",
    "proj_md = o2r.metadata.read_md_yaml(\n",
    "    project_name=\"TS\",\n",
    "    job_type=\"motioncorr\",\n",
    "    filename=\"TS_master_md.yaml\",\n",
    ")\n",
    "\n",
    "mc2_obj = o2r.motioncorr.Motioncorr(\n",
    "    project_name=\"TS\",\n",
    "    mc2_params=mc2_params,\n",
    "    md_in=proj_md,\n",
    "    logger=o2r.logger.Logger(\"o2r_motioncor2.log\")\n",
    ")\n",
    "\n",
    "mc2_obj.run_mc2()\n",
    "mc2_obj.export_metadata()"
   ]
  },
  {
   "attachments": {},
   "cell_type": "markdown",
   "metadata": {},
   "source": [
    "### 4. Run IMOD alignment\n",
    "\n",
    "Ensure IMOD is available on your system. User inputs can be captured from the MagicGUI or programatically as before."
   ]
  },
  {
   "cell_type": "code",
   "execution_count": 20,
   "metadata": {},
   "outputs": [],
   "source": [
    "# MagicGUI method\n",
    "o2r.align.create_yaml()"
   ]
  },
  {
   "cell_type": "code",
   "execution_count": 2,
   "metadata": {},
   "outputs": [],
   "source": [
    "# Programatically\n",
    "align_args = magicgui.widgets.FunctionGui(o2r.magicgui.get_args_align)\n",
    "align_args.project_name.value = \"TS\"\n",
    "align_args.rot_angle.value = 175.51\n",
    "align_args.stack_bin_factor.value = 8 # to speed things up\n",
    "\n",
    "o2r.align.create_yaml(align_args)"
   ]
  },
  {
   "cell_type": "code",
   "execution_count": 2,
   "metadata": {},
   "outputs": [
    {
     "name": "stdout",
     "output_type": "stream",
     "text": [
      "Ot2Rec-align (IMOD) started: newstack.\n"
     ]
    },
    {
     "name": "stderr",
     "output_type": "stream",
     "text": [
      "Creating stack for TS 1...: 100%|█████████████████████████████████████| 1/1 [00:06<00:00,  6.17s/it]\n"
     ]
    },
    {
     "name": "stdout",
     "output_type": "stream",
     "text": [
      "All Ot2Rec-align (IMOD): newstack jobs successfully finished.\n",
      "Ot2Rec-align (IMOD) started: batchruntomo.\n"
     ]
    },
    {
     "name": "stderr",
     "output_type": "stream",
     "text": [
      "Aligning TS 1...: 100%|██████████████████████████████████████████████| 1/1 [03:37<00:00, 217.02s/it]"
     ]
    },
    {
     "name": "stdout",
     "output_type": "stream",
     "text": [
      "All Ot2Rec-align (IMOD) jobs successfully finished.\n"
     ]
    },
    {
     "name": "stderr",
     "output_type": "stream",
     "text": [
      "\n"
     ]
    }
   ],
   "source": [
    "# Run\n",
    "\n",
    "align_params = o2r.params.read_yaml(\n",
    "    project_name=\"TS\",\n",
    "    filename=\"TS_align.yaml\",\n",
    ")\n",
    "mc2_md = o2r.metadata.read_md_yaml(\n",
    "    project_name=\"TS\",\n",
    "    job_type=\"align\",\n",
    "    filename=\"TS_mc2_mdout.yaml\"\n",
    ")\n",
    "\n",
    "align_obj = o2r.align.Align(\n",
    "    project_name=\"TS\",\n",
    "    md_in=mc2_md,\n",
    "    params_in=align_params,\n",
    "    logger_in=o2r.logger.Logger(\"o2r_imod_align.log\"),\n",
    ")\n",
    "\n",
    "align_obj.create_stack_folders()\n",
    "align_obj.create_rawtlt()\n",
    "align_obj.create_stack()\n",
    "align_obj.align_stack()"
   ]
  },
  {
   "attachments": {},
   "cell_type": "markdown",
   "metadata": {},
   "source": [
    "### 4. Reconstruction with IMOD\n"
   ]
  },
  {
   "cell_type": "code",
   "execution_count": 3,
   "metadata": {},
   "outputs": [
    {
     "name": "stdout",
     "output_type": "stream",
     "text": [
      "IMOD alignment metadata read successfully.\n",
      "Previous IMOD reconstruction metadata not found.\n",
      "IMOD reconstruction metadata updated.\n",
      "IMOD alignment metadata file created.\n"
     ]
    }
   ],
   "source": [
    "# Create yaml\n",
    "o2r.recon.create_yaml()"
   ]
  },
  {
   "cell_type": "code",
   "execution_count": 4,
   "metadata": {},
   "outputs": [
    {
     "name": "stdout",
     "output_type": "stream",
     "text": [
      "IMOD alignment metadata read successfully.\n",
      "Previous IMOD reconstruction metadata not found.\n",
      "IMOD reconstruction metadata updated.\n",
      "IMOD alignment metadata file created.\n"
     ]
    }
   ],
   "source": [
    "# Programatically\n",
    "recon_args = magicgui.widgets.FunctionGui(o2r.magicgui.get_args_recon)\n",
    "recon_args.project_name.value = \"TS\"\n",
    "\n",
    "o2r.recon.create_yaml(recon_args)"
   ]
  },
  {
   "cell_type": "code",
   "execution_count": 2,
   "metadata": {},
   "outputs": [
    {
     "name": "stdout",
     "output_type": "stream",
     "text": [
      "Ot2Rec-reconstruction (IMOD) started.\n"
     ]
    },
    {
     "name": "stderr",
     "output_type": "stream",
     "text": [
      "Reconstructing TS 1...: 100%|████████████████████████████████████████| 1/1 [03:49<00:00, 229.67s/it]"
     ]
    },
    {
     "name": "stdout",
     "output_type": "stream",
     "text": [
      "All Ot2Rec-recon (IMOD) jobs successfully finished.\n"
     ]
    },
    {
     "name": "stderr",
     "output_type": "stream",
     "text": [
      "\n"
     ]
    }
   ],
   "source": [
    "# Run\n",
    "recon_params = o2r.params.read_yaml(\n",
    "    project_name=\"TS\",\n",
    "    filename=\"TS_recon.yaml\",\n",
    ")\n",
    "\n",
    "align_md = o2r.metadata.read_md_yaml(\n",
    "    project_name=\"TS\",\n",
    "    job_type=\"reconstruct\", \n",
    "    filename=\"TS_align_mdout.yaml\"\n",
    ")\n",
    "\n",
    "recon_obj = o2r.recon.Recon(\n",
    "    project_name=\"TS\",\n",
    "    md_in=align_md,\n",
    "    params_in=recon_params,\n",
    "    logger_in=o2r.logger.Logger(\"o2r.imod_recon.log\"),\n",
    ")\n",
    "\n",
    "recon_obj.recon_stack()"
   ]
  },
  {
   "attachments": {},
   "cell_type": "markdown",
   "metadata": {},
   "source": [
    "### 5. Ot2Rec reports\n",
    "\n",
    "You can generate the Ot2Rec reports by running `o2r.report.run TS` in the project directory within a conda env with `ot2rec_report` installed.\n"
   ]
  }
 ],
 "metadata": {
  "kernelspec": {
   "display_name": "Python 3",
   "language": "python",
   "name": "python3"
  },
  "language_info": {
   "codemirror_mode": {
    "name": "ipython",
    "version": 3
   },
   "file_extension": ".py",
   "mimetype": "text/x-python",
   "name": "python",
   "nbconvert_exporter": "python",
   "pygments_lexer": "ipython3",
   "version": "3.9.7"
  },
  "orig_nbformat": 4,
  "vscode": {
   "interpreter": {
    "hash": "6717d6b4b0630fd498b6c67d885451ac916374d0a2d9f30008bd0e9f3f0963e1"
   }
  }
 },
 "nbformat": 4,
 "nbformat_minor": 2
}
